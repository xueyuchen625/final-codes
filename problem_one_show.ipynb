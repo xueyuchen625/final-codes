{
 "cells": [
  {
   "cell_type": "code",
   "execution_count": 2,
   "metadata": {
    "scrolled": true
   },
   "outputs": [],
   "source": [
    "import problem_one as model"
   ]
  },
  {
   "cell_type": "code",
   "execution_count": 3,
   "metadata": {},
   "outputs": [],
   "source": [
    "sorted_amenities = model.get_sorted_amenities()"
   ]
  },
  {
   "cell_type": "code",
   "execution_count": 4,
   "metadata": {},
   "outputs": [
    {
     "name": "stdout",
     "output_type": "stream",
     "text": [
      "{'Wireless Internet': 16803, 'Kitchen': 15876, 'Essentials': 15051, 'Washer': 13668, 'Heating': 13107, 'TV': 11855, 'Elevator in building': 10791, 'Hangers': 10760, 'Family/kid friendly': 10618, 'Hair dryer': 10272}\n"
     ]
    }
   ],
   "source": [
    "print(sorted_amenities)"
   ]
  },
  {
   "cell_type": "code",
   "execution_count": 12,
   "metadata": {},
   "outputs": [],
   "source": [
    "import csv\n",
    "with open (\"result_one.csv\", \"w\", newline='') as f : \n",
    "    f_csv = csv.writer(f)\n",
    "    f_csv.writerows(keys)\n",
    "    f_csv.writerows(str(values))"
   ]
  },
  {
   "cell_type": "code",
   "execution_count": null,
   "metadata": {},
   "outputs": [],
   "source": []
  }
 ],
 "metadata": {
  "kernelspec": {
   "display_name": "Python 3",
   "language": "python",
   "name": "python3"
  },
  "language_info": {
   "codemirror_mode": {
    "name": "ipython",
    "version": 3
   },
   "file_extension": ".py",
   "mimetype": "text/x-python",
   "name": "python",
   "nbconvert_exporter": "python",
   "pygments_lexer": "ipython3",
   "version": "3.7.6"
  }
 },
 "nbformat": 4,
 "nbformat_minor": 4
}
