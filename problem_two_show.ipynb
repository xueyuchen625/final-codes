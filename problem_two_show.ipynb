{
 "cells": [
  {
   "cell_type": "code",
   "execution_count": 2,
   "metadata": {},
   "outputs": [],
   "source": [
    "import problem_two as model"
   ]
  },
  {
   "cell_type": "code",
   "execution_count": 3,
   "metadata": {},
   "outputs": [],
   "source": [
    "bathroom_dic, bedroom_dic = model.get_results()"
   ]
  },
  {
   "cell_type": "code",
   "execution_count": 3,
   "metadata": {
    "scrolled": true
   },
   "outputs": [
    {
     "name": "stdout",
     "output_type": "stream",
     "text": [
      "{'1.0': 12446, '1.5': 1153, '2.0': 3298, '0.5': 82, '2.5': 133, '0.0': 56, '3.0': 244, '4.0': 79, '6.0': 9, '4.5': 4, '5.0': 22, '3.5': 26, '8.0': 13, '7.0': 1, '5.5': 5, '6.5': 0, '7.5': 0}\n",
      "{'1': 11063, '0': 484, '2': 3394, '3': 1863, '4': 591, '5': 113, '6': 49, '8': 3, '9': 6, '10': 8, '7': 3}\n"
     ]
    }
   ],
   "source": [
    "print(bathroom_dic)\n",
    "print(bedroom_dic)"
   ]
  },
  {
   "cell_type": "code",
   "execution_count": 8,
   "metadata": {},
   "outputs": [
    {
     "name": "stdout",
     "output_type": "stream",
     "text": [
      "['1.0', '1.5', '2.0', '0.5', '2.5', '0.0', '3.0', '4.0', '6.0', '4.5', '5.0', '3.5', '8.0', '7.0', '5.5', '6.5', '7.5']\n"
     ]
    }
   ],
   "source": [
    "import csv\n",
    "with open('result_two.csv','w',encoding='utf-8', newline='' \"\") as f:\n",
    "    csv_writer = csv.writer(f)\n",
    "    csv_writer.writerow(['bathrooms','number of houses', 'bedrooms', 'number of houses'])\n",
    "    bathroom_dic_len = len(bathroom_dic.keys())\n",
    "    bedroom_dic_len = len(bedroom_dic.keys())\n",
    "    bathrooms = list(bathroom_dic.keys())\n",
    "    bedrooms = list(bedroom_dic.keys())\n",
    "    print(bathrooms)\n",
    "    rows = max(bathroom_dic_len, bedroom_dic_len)\n",
    "    for i in range(0, rows):\n",
    "        coloum_one, coloum_two, coloum_three, coloum_four = '', '', '', ''\n",
    "        if i < bathroom_dic_len:\n",
    "            coloum_one = str(bathrooms[i])\n",
    "            coloum_two = bathroom_dic[coloum_one]\n",
    "        \n",
    "        if i < bedroom_dic_len:\n",
    "            coloum_three = str(bedrooms[i])\n",
    "            coloum_four = bedroom_dic[coloum_three]\n",
    "        csv_writer.writerow([coloum_one, coloum_two, coloum_three, coloum_four])"
   ]
  },
  {
   "cell_type": "code",
   "execution_count": null,
   "metadata": {},
   "outputs": [],
   "source": []
  }
 ],
 "metadata": {
  "kernelspec": {
   "display_name": "Python 3",
   "language": "python",
   "name": "python3"
  },
  "language_info": {
   "codemirror_mode": {
    "name": "ipython",
    "version": 3
   },
   "file_extension": ".py",
   "mimetype": "text/x-python",
   "name": "python",
   "nbconvert_exporter": "python",
   "pygments_lexer": "ipython3",
   "version": "3.7.6"
  }
 },
 "nbformat": 4,
 "nbformat_minor": 4
}
