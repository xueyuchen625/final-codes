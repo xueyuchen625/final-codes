{
 "cells": [
  {
   "cell_type": "code",
   "execution_count": 1,
   "metadata": {},
   "outputs": [],
   "source": [
    "from sklearn.datasets import load_boston\n",
    "from sklearn.model_selection import train_test_split\n",
    "from sklearn.preprocessing import StandardScaler\n",
    "from sklearn.svm import SVR\n",
    "from sklearn.metrics import r2_score, mean_squared_error, mean_absolute_error\n",
    "import numpy as np\n",
    "import problem_five_dataProcess as dataProcess"
   ]
  },
  {
   "cell_type": "code",
   "execution_count": 2,
   "metadata": {},
   "outputs": [
    {
     "name": "stdout",
     "output_type": "stream",
     "text": [
      "('11238812', ['6', '1.0', 0, '3'])\n"
     ]
    }
   ],
   "source": [
    "list_id, list_x, list_y = dataProcess.get_training_data()"
   ]
  },
  {
   "cell_type": "code",
   "execution_count": 11,
   "metadata": {},
   "outputs": [],
   "source": [
    "height = len(list_id)\n",
    "width = len(list_x[0])\n",
    "np_x = np.zeros((height, width))\n",
    "for i in range(0, height):\n",
    "    for j in range(0, width):\n",
    "        np_x[i][j] = list_x[i][j]\n",
    "        \n",
    "np_y = np.zeros((height, 1))\n",
    "for i in range(0, height):\n",
    "    np_y[i] = list_y[i]"
   ]
  },
  {
   "cell_type": "code",
   "execution_count": 12,
   "metadata": {},
   "outputs": [],
   "source": [
    "x_train, x_test, y_train, y_test = train_test_split(np_x, np_y, test_size=0.25, random_state=33)"
   ]
  },
  {
   "cell_type": "code",
   "execution_count": 13,
   "metadata": {},
   "outputs": [],
   "source": [
    "ss_x = StandardScaler()\n",
    "x_train = ss_x.fit_transform(x_train)\n",
    "x_test = ss_x.transform(x_test)\n",
    "\n",
    "ss_y = StandardScaler()\n",
    "y_train = ss_y.fit_transform(y_train.reshape(-1, 1))\n",
    "y_test = ss_y.transform(y_test.reshape(-1, 1))"
   ]
  },
  {
   "cell_type": "code",
   "execution_count": 19,
   "metadata": {
    "scrolled": true
   },
   "outputs": [
    {
     "name": "stderr",
     "output_type": "stream",
     "text": [
      "D:\\Anaconda3\\lib\\site-packages\\sklearn\\utils\\validation.py:760: DataConversionWarning: A column-vector y was passed when a 1d array was expected. Please change the shape of y to (n_samples, ), for example using ravel().\n",
      "  y = column_or_1d(y, warn=True)\n"
     ]
    }
   ],
   "source": [
    "poly_svr = SVR(kernel=\"poly\")\n",
    "poly_svr.fit(x_train, y_train)\n",
    "poly_svr_y_predict = linear_svr.predict(x_test)"
   ]
  },
  {
   "cell_type": "code",
   "execution_count": 21,
   "metadata": {},
   "outputs": [
    {
     "name": "stdout",
     "output_type": "stream",
     "text": [
      "对多项式核函数的默认评估值为： -0.4442561143756725\n",
      "对多项式核函数的R_squared值为： 0.3576363301867833\n",
      "对多项式核函数的均方误差为: 16226.81726499712\n",
      "对多项式核函数的平均绝对误差为: 69.37763490759217\n",
      "[ 0.31049833 -0.71370322 -0.04371456 ... -0.49037366  1.72475322\n",
      " -0.49037366]\n"
     ]
    }
   ],
   "source": [
    "print(\"对多项式核函数的默认评估值为：\", poly_svr.score(x_test, y_test))\n",
    "print(\"对多项式核函数的R_squared值为：\", r2_score(y_test, poly_svr_y_predict))\n",
    "print(\"对多项式核函数的均方误差为:\", mean_squared_error(ss_y.inverse_transform(y_test),\n",
    "                                           ss_y.inverse_transform(poly_svr_y_predict)))\n",
    "print(\"对多项式核函数的平均绝对误差为:\", mean_absolute_error(ss_y.inverse_transform(y_test),\n",
    "                                              ss_y.inverse_transform(poly_svr_y_predict)))"
   ]
  },
  {
   "cell_type": "code",
   "execution_count": null,
   "metadata": {},
   "outputs": [],
   "source": []
  }
 ],
 "metadata": {
  "kernelspec": {
   "display_name": "Python 3",
   "language": "python",
   "name": "python3"
  },
  "language_info": {
   "codemirror_mode": {
    "name": "ipython",
    "version": 3
   },
   "file_extension": ".py",
   "mimetype": "text/x-python",
   "name": "python",
   "nbconvert_exporter": "python",
   "pygments_lexer": "ipython3",
   "version": "3.7.6"
  }
 },
 "nbformat": 4,
 "nbformat_minor": 4
}
